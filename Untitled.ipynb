{
 "cells": [
  {
   "cell_type": "code",
   "execution_count": 52,
   "id": "c3281559",
   "metadata": {},
   "outputs": [
    {
     "name": "stdout",
     "output_type": "stream",
     "text": [
      "                                                body    label\n",
      "0  Dear [Product Vendor],\\n\\nI am writing to requ...  Request\n",
      "1  Dear [Product Vendor],\\n\\nI am writing to requ...  Request\n",
      "2  Dear [Product Vendor],\\n\\nI am writing to requ...  Request\n",
      "3  Dear [Product Vendor],\\n\\nI am writing to requ...  Request\n",
      "4  Dear [Sales Team],\\n\\nI am writing to request ...  Request\n"
     ]
    }
   ],
   "source": [
    "# Load the dataset\n",
    "import pandas as pd\n",
    "import re\n",
    "data = pd.read_excel('emails.xlsx')\n",
    "print(data.head())\n",
    "\n",
    "# Pre-processing\n",
    "import nltk\n",
    "#nltk.download('omw-1.4')\n",
    "from nltk.corpus import stopwords\n",
    "from nltk.tokenize import word_tokenize\n",
    "from nltk.stem.porter import PorterStemmer\n",
    "from nltk.stem import WordNetLemmatizer\n"
   ]
  },
  {
   "cell_type": "code",
   "execution_count": 53,
   "id": "38520976",
   "metadata": {},
   "outputs": [],
   "source": [
    "ps=PorterStemmer()\n",
    "lemmatizer = WordNetLemmatizer()\n"
   ]
  },
  {
   "cell_type": "code",
   "execution_count": 54,
   "id": "951cc450",
   "metadata": {},
   "outputs": [],
   "source": [
    "\n",
    "stop_words = set(stopwords.words('english'))\n",
    "\n",
    "def preprocess_text(text):\n",
    "    # Clean the text\n",
    "    text = text.lower()\n",
    "    text = re.sub(r'[^\\w\\s]', '', text)\n",
    "    \n",
    "    # Tokenize the text\n",
    "    tokens = word_tokenize(text)\n",
    "    \n",
    "    # Remove stop words\n",
    "    filtered_tokens = [token for token in tokens if not token in stop_words]\n",
    "    filtered_tokens = [ps.stem(token) for token in tokens if  token not in stopwords.words('english')]\n",
    "    filtered_tokens = [lemmatizer.lemmatize(token) for token in tokens if  token not in stopwords.words('english')]\n",
    "    \n",
    "    # Return the preprocessed text\n",
    "    return \" \".join(filtered_tokens)"
   ]
  },
  {
   "cell_type": "code",
   "execution_count": 55,
   "id": "30a47f03",
   "metadata": {},
   "outputs": [],
   "source": [
    "\n",
    "data['body'] = data['body'].apply(preprocess_text)"
   ]
  },
  {
   "cell_type": "code",
   "execution_count": 56,
   "id": "2c54773b",
   "metadata": {},
   "outputs": [
    {
     "data": {
      "text/plain": [
       "'dear product vendor writing request demo project management tool product name new startup need tool help u manage project task believe product may good fit need could please provide u information feature functionality product well availability demo would like schedule demo earliest convenience thank time consideration look forward learning product sincerely name'"
      ]
     },
     "execution_count": 56,
     "metadata": {},
     "output_type": "execute_result"
    }
   ],
   "source": [
    "data['body'][0]"
   ]
  },
  {
   "cell_type": "code",
   "execution_count": 57,
   "id": "fe96a1bb",
   "metadata": {},
   "outputs": [
    {
     "data": {
      "text/plain": [
       "DecisionTreeClassifier()"
      ]
     },
     "execution_count": 57,
     "metadata": {},
     "output_type": "execute_result"
    }
   ],
   "source": [
    "# Feature Extraction\n",
    "from sklearn.feature_extraction.text import CountVectorizer, TfidfVectorizer\n",
    "\n",
    "vectorizer = TfidfVectorizer()\n",
    "X = vectorizer.fit_transform(data['body'])\n",
    "y = data['label']\n",
    "\n",
    "# Model Selection\n",
    "from sklearn.tree import DecisionTreeClassifier\n",
    "model = DecisionTreeClassifier()\n",
    "\n",
    "# Training and Evaluation\n",
    "from sklearn.model_selection import train_test_split\n",
    "from sklearn.metrics import accuracy_score, precision_score, recall_score, f1_score\n",
    "\n",
    "X_train, X_test, y_train, y_test = train_test_split(X, y, test_size=0.2, random_state=42)\n",
    "\n",
    "model.fit(X_train, y_train)"
   ]
  },
  {
   "cell_type": "code",
   "execution_count": 61,
   "id": "b5b587a8",
   "metadata": {},
   "outputs": [
    {
     "data": {
      "text/plain": [
       "<3x197 sparse matrix of type '<class 'numpy.float64'>'\n",
       "\twith 119 stored elements in Compressed Sparse Row format>"
      ]
     },
     "execution_count": 61,
     "metadata": {},
     "output_type": "execute_result"
    }
   ],
   "source": [
    "X_test"
   ]
  },
  {
   "cell_type": "code",
   "execution_count": 60,
   "id": "57ba0f62",
   "metadata": {},
   "outputs": [
    {
     "name": "stdout",
     "output_type": "stream",
     "text": [
      "['Problem/Pain Point' 'Instance\\\\Inquiry' 'Request']\n",
      "Accuracy: 1.0\n",
      "Precision: 1.0\n",
      "Recall: 1.0\n",
      "F1-Score: 1.0\n",
      "['Request']\n"
     ]
    }
   ],
   "source": [
    "y_pred = model.predict(X_test)\n",
    "print(y_pred)\n",
    "print(\"Accuracy:\", accuracy_score(y_test, y_pred))\n",
    "print(\"Precision:\", precision_score(y_test, y_pred, average='weighted'))\n",
    "print(\"Recall:\", recall_score(y_test, y_pred, average='weighted'))\n",
    "print(\"F1-Score:\", f1_score(y_test, y_pred, average='weighted'))\n",
    "\n",
    "# Prediction\n",
    "new_email = \"solve the problem\"\n",
    "new_email = preprocess_text(new_email)\n",
    "new_email_vec = vectorizer.transform([new_email])\n",
    "print(model.predict(new_email_vec))\n"
   ]
  }
 ],
 "metadata": {
  "kernelspec": {
   "display_name": "Python 3 (ipykernel)",
   "language": "python",
   "name": "python3"
  },
  "language_info": {
   "codemirror_mode": {
    "name": "ipython",
    "version": 3
   },
   "file_extension": ".py",
   "mimetype": "text/x-python",
   "name": "python",
   "nbconvert_exporter": "python",
   "pygments_lexer": "ipython3",
   "version": "3.9.13"
  }
 },
 "nbformat": 4,
 "nbformat_minor": 5
}
